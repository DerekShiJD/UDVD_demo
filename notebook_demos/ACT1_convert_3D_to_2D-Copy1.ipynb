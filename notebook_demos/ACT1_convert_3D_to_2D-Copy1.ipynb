{
 "cells": [
  {
   "cell_type": "code",
   "execution_count": 2,
   "metadata": {},
   "outputs": [],
   "source": [
    "import os\n",
    "import re\n",
    "import cv2\n",
    "import sys\n",
    "import csv\n",
    "import imageio\n",
    "import operator\n",
    "import numpy as np\n",
    "import pandas as pd\n",
    "import tifffile as tif\n",
    "import seaborn as sns\n",
    "import PIL.Image as Image\n",
    "import matplotlib.pyplot as plt\n",
    "\n",
    "# comitk\n",
    "COMI_DIR = os.path.abspath('/home/jindous2/DerekProjects/MyTools/COMI_Toolkit/')\n",
    "sys.path.append(COMI_DIR)\n",
    "import comitk as comi"
   ]
  },
  {
   "cell_type": "code",
   "execution_count": 13,
   "metadata": {},
   "outputs": [
    {
     "name": "stdout",
     "output_type": "stream",
     "text": [
      "6\n"
     ]
    }
   ],
   "source": [
    "in_folder = r'/home/derek/NewStorage/All_data/2022_DeepCAD_datasets/2022_Geng_Dynamic imaging/20220603 embryo Day11/3D'\n",
    "save_folder = r'/home/derek/NewStorage/All_data/2022_DeepCAD_datasets/2022_Geng_Dynamic imaging/20220603 embryo Day11/2D'\n",
    "\n",
    "all_imgs = comi.find_file(in_folder, 'tif')\n",
    "print(len(all_imgs))"
   ]
  },
  {
   "cell_type": "code",
   "execution_count": 14,
   "metadata": {},
   "outputs": [],
   "source": [
    "def write_tiff_file(path, img_content, swap=True):\n",
    "    \"\"\"\n",
    "    Write a numpy array to file (.tiff 32-bit, 0.0~1.0)\n",
    "    :param path: (str) the output folder\n",
    "    :param img_content: (ndarray) a numpy array (xpix, ypix, tpix)\n",
    "    :param swap: (bool) By default, swap the axis of the image cube to (tpix, xpix, ypix)\n",
    "    :return:\n",
    "        0: success\n",
    "        1: failed\n",
    "    \"\"\"\n",
    "    if swap:\n",
    "        img_content = np.swapaxes(img_content, 0, 2)\n",
    "        img_content = np.swapaxes(img_content, 1, 2)\n",
    "    # img_content = np.float32(img_content)\n",
    "    output_file = os.path.abspath(path)\n",
    "    imageio.mimwrite(output_file, img_content)\n",
    "    return 0"
   ]
  },
  {
   "cell_type": "code",
   "execution_count": 15,
   "metadata": {},
   "outputs": [
    {
     "name": "stdout",
     "output_type": "stream",
     "text": [
      "/home/derek/NewStorage/All_data/2022_Geng_Dynamic imaging/20220215 Worm 2 fridge 30 mins/Worm_60mW_400um_cool_0_2D\n",
      "CH1_2PAF.tif\n",
      "............................................................................................................................................................................................................................................................................................................\n",
      "CH5_SHG.tif\n",
      "............................................................................................................................................................................................................................................................................................................\n",
      "CH6_THG.tif\n",
      "............................................................................................................................................................................................................................................................................................................\n",
      "CH2_3PAF.tif\n",
      "............................................................................................................................................................................................................................................................................................................\n",
      "CH3_4PAF.tif\n",
      "............................................................................................................................................................................................................................................................................................................\n",
      "CH4_2PAFL.tif\n",
      "............................................................................................................................................................................................................................................................................................................\n"
     ]
    }
   ],
   "source": [
    "print(save_folder)\n",
    "\n",
    "for fname in all_imgs:\n",
    "    # creat save folder\n",
    "    print(fname)\n",
    "    \n",
    "    os.makedirs(os.path.join(save_folder, fname[:-4]), exist_ok=True)\n",
    "    \n",
    "    img = tif.imread(os.path.join(in_folder, fname))\n",
    "    \n",
    "    for i in range(img.shape[0]):\n",
    "        temp_img = img[i, ]\n",
    "        tif.imwrite(os.path.join(save_folder, fname[:-4], str(i)+'_'+fname), img[i, :, :])\n",
    "        print('.', end='')\n",
    "    print()\n",
    "    \n",
    "\n"
   ]
  },
  {
   "cell_type": "code",
   "execution_count": null,
   "metadata": {},
   "outputs": [],
   "source": []
  }
 ],
 "metadata": {
  "kernelspec": {
   "display_name": "gsk_pytorch_gpu",
   "language": "python",
   "name": "python3"
  },
  "language_info": {
   "codemirror_mode": {
    "name": "ipython",
    "version": 3
   },
   "file_extension": ".py",
   "mimetype": "text/x-python",
   "name": "python",
   "nbconvert_exporter": "python",
   "pygments_lexer": "ipython3",
   "version": "3.8.13"
  },
  "vscode": {
   "interpreter": {
    "hash": "b5ddd0d9428414e31bd52c4ed9a1924c15a20177b5dd9a2e2b7286e65c40b708"
   }
  }
 },
 "nbformat": 4,
 "nbformat_minor": 4
}
